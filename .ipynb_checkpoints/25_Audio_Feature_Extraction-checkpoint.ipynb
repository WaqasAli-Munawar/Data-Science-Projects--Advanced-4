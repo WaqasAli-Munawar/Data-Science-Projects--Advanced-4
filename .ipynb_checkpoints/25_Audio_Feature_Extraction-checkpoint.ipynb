{
 "cells": [
  {
   "cell_type": "markdown",
   "metadata": {
    "id": "zg4WlhqF15pj"
   },
   "source": [
    "Audio Feature Extraction has been one of the significant focus of Machine Learning over the years. The most frequent common state of data is a text where we can perform feature extraction quite smoothly. Then we have Feature Extraction for the image, which is a challenging task."
   ]
  },
  {
   "cell_type": "markdown",
   "metadata": {
    "id": "sPXOn7mm15pt"
   },
   "source": [
    "Now we will show how Audio Feature Extraction, which is a bit more complicated task in Machine Learning. Feature Extraction is the process of reducing the number of features in the data by creating new features using the existing ones. The new extracted features must be able to summarise most of the information contained in the original set of elements in the data.\n",
    "\n",
    "### Audio Feature Extraction\n",
    "\n",
    "Audio Feature Extraction plays a significant part in analyzing the audios. The idea is to extract those powerful features that can help in characterizing all the complex nature of audio signals which at the end will help in to identify the discriminatory subspaces of audio and all the keys that we need to analyze sound signals. Now let’s start with importing all the libraries that we need for this task:"
   ]
  },
  {
   "cell_type": "code",
   "execution_count": 1,
   "metadata": {
    "colab": {
     "base_uri": "https://localhost:8080/"
    },
    "id": "tpbE3LlB15pv",
    "outputId": "74b9099b-b3b0-4fb9-ea38-1eb256254a64"
   },
   "outputs": [
    {
     "name": "stdout",
     "output_type": "stream",
     "text": [
      "Reading package lists... Done\n",
      "Building dependency tree       \n",
      "Reading state information... Done\n",
      "ffmpeg is already the newest version (7:3.4.8-0ubuntu0.2).\n",
      "0 upgraded, 0 newly installed, 0 to remove and 37 not upgraded.\n",
      "Requirement already satisfied: eyed3 in /usr/local/lib/python3.7/dist-packages (0.9.6)\n",
      "Requirement already satisfied: filetype<2.0.0,>=1.0.7 in /usr/local/lib/python3.7/dist-packages (from eyed3) (1.0.7)\n",
      "Requirement already satisfied: deprecation<3.0.0,>=2.1.0 in /usr/local/lib/python3.7/dist-packages (from eyed3) (2.1.0)\n",
      "Requirement already satisfied: coverage[toml]<6.0.0,>=5.3.1 in /usr/local/lib/python3.7/dist-packages (from eyed3) (5.5)\n",
      "Requirement already satisfied: toml in /usr/local/lib/python3.7/dist-packages (from coverage[toml]<6.0.0,>=5.3.1->eyed3) (0.10.2)\n",
      "Requirement already satisfied: packaging in /usr/local/lib/python3.7/dist-packages (from deprecation<3.0.0,>=2.1.0->eyed3) (21.0)\n",
      "Requirement already satisfied: pyparsing>=2.0.2 in /usr/local/lib/python3.7/dist-packages (from packaging->deprecation<3.0.0,>=2.1.0->eyed3) (2.4.7)\n",
      "Requirement already satisfied: pydub in /usr/local/lib/python3.7/dist-packages (0.25.1)\n",
      "Requirement already satisfied: pyAudioAnalysis in /usr/local/lib/python3.7/dist-packages (0.3.7)\n"
     ]
    }
   ],
   "source": [
    "# !apt install -y ffmpeg\n",
    "# !pip install eyed3\n",
    "# !pip install pydub\n",
    "# !pip install pyAudioAnalysis"
   ]
  },
  {
   "cell_type": "code",
   "execution_count": 2,
   "metadata": {
    "id": "WbLICckP15py"
   },
   "outputs": [],
   "source": [
    "import os\n",
    "import tensorflow as tf\n",
    "import numpy as np\n",
    "import pandas as pd\n",
    "from pyAudioAnalysis import audioBasicIO\n",
    "# from pyAudioAnalysis import audioFeatureExtraction\n",
    "from pyAudioAnalysis.ShortTermFeatures import feature_extraction\n",
    "import matplotlib.pyplot as plt"
   ]
  },
  {
   "cell_type": "markdown",
   "metadata": {
    "id": "3xQabL4N15p0"
   },
   "source": [
    "* **Audio Basic IO** is used to extract the audio data like a data frame and creating sample data for audio signals. \n",
    "* **Audio Feature Extraction** is responsible for obtaining all the features from the signals of audio that we need for this task.\n",
    "\n",
    "Now we will define a utility function that will help us in taking a file name as argument:\n",
    "\n",
    "### Utility function to extract features from wav files\n",
    "* Pre-process data and transform double channel to single channel\n",
    "* Extract the chromagraph from the audio file\n",
    "* Find note frequency"
   ]
  },
  {
   "cell_type": "code",
   "execution_count": 3,
   "metadata": {
    "id": "wGnNxCHS15p1"
   },
   "outputs": [],
   "source": [
    "def preProcess( fileName ):\n",
    "    # Extracting wav file data\n",
    "    [Fs, x] = audioBasicIO.read_audio_file(fileName);\n",
    "\n",
    "    # If double channel data then take mean\n",
    "    if( len( x.shape ) > 1 and  x.shape[1] == 2 ):\n",
    "        x = np.mean( x, axis = 1, keepdims = True )\n",
    "    else:\n",
    "        x = x.reshape( x.shape[0], 1 )\n",
    "    \n",
    "    # Extract the raw chromagram data, expected dimention is [ m,  ] not [ m, 1 ]\n",
    "    F, f_names = feature_extraction(\n",
    "        x[ :, 0 ], \n",
    "        Fs, 0.050*Fs, \n",
    "        0.025*Fs\n",
    "    )\n",
    "    \n",
    "    return (f_names, F)"
   ]
  },
  {
   "cell_type": "markdown",
   "metadata": {
    "id": "CxkI7Vvu15p2"
   },
   "source": [
    "Now we would like to use only the **chronogram feature from the audio signals**, so we will now separate the data from our function:"
   ]
  },
  {
   "cell_type": "code",
   "execution_count": 4,
   "metadata": {
    "id": "3jz7OeFW15p3"
   },
   "outputs": [],
   "source": [
    "def getChromagram( audioData ):\n",
    "    # chronograph_1\n",
    "    temp_data =  audioData[ 21 ].reshape( 1, audioData[ 21 ].shape[0] )\n",
    "    chronograph = temp_data\n",
    "    \n",
    "    # looping through the next 11 stacking them vertically\n",
    "    for i in range( 22, 33 ):\n",
    "        temp_data =  audioData[ i ].reshape( 1, audioData[ i ].shape[0] )\n",
    "        chronograph = np.vstack( [ chronograph,  temp_data ] )\n",
    "    \n",
    "    return chronograph"
   ]
  },
  {
   "cell_type": "markdown",
   "metadata": {
    "id": "wbtpSq1-15p5"
   },
   "source": [
    "Now we will create a function that will be used to find the best note in each window, and then we can easily find the frequencies from the audio signals:"
   ]
  },
  {
   "cell_type": "code",
   "execution_count": 5,
   "metadata": {
    "id": "-tpc4C3V15p7"
   },
   "outputs": [],
   "source": [
    "def getNoteFrequency( chromagram ):\n",
    "    \n",
    "    # Total number of time frames in the current sample\n",
    "    numberOfWindows = chromagram.shape[1]\n",
    "    \n",
    "    # Taking the note with the highest amplitude\n",
    "    freqVal = chromagram.argmax( axis = 0 )\n",
    "    \n",
    "    # Converting the freqVal vs time to freq count\n",
    "    histogram, bin = np.histogram( freqVal, bins = 12 ) \n",
    "    \n",
    "    # Normalizing the distribution by the number of time frames\n",
    "    normalized_hist = histogram.reshape( 1, 12 ).astype( float ) / numberOfWindows\n",
    "    \n",
    "    return normalized_hist"
   ]
  },
  {
   "cell_type": "markdown",
   "metadata": {
    "id": "Akn42Bwt15p8"
   },
   "source": [
    "Now we will create a function to iterate over the files in the path of our directory. Here we will be using a pandas data frame to store our feature vectors:"
   ]
  },
  {
   "cell_type": "code",
   "execution_count": 6,
   "metadata": {
    "id": "SFByf84i9mtH"
   },
   "outputs": [],
   "source": [
    "# Utility function to plot a heat map and frequency of each note\n",
    "\n",
    "def plotHeatmap( chromagraph, smallSample = True ):\n",
    "    \n",
    "    notesLabels = [ \"G#\", \"G\", \"F#\", \"F\", \"E\", \"D#\", \"D\", \"C#\", \"C\", \"B\", \"A#\", \"A\" ]\n",
    "    \n",
    "    fig, axis = plt.subplots()\n",
    "    \n",
    "    if smallSample:\n",
    "        im = axis.imshow( chromagram[ :, 0 : 25 ], cmap = \"YlGn\" )\n",
    "    else:\n",
    "        im = axis.imshow( chromagram )\n",
    "        \n",
    "    cbar = axis.figure.colorbar(im, ax = axis,  cmap = \"YlGn\")\n",
    "    cbar.ax.set_ylabel(\"Amplitude\", rotation=-90, va=\"bottom\")\n",
    "    \n",
    "    axis.set_yticks( np.arange( len(notesLabels) ) )\n",
    "    axis.set_yticklabels(notesLabels)\n",
    "    \n",
    "    axis.set_title( \"chromagram\" )\n",
    "    \n",
    "    fig.tight_layout()\n",
    "    _ = plt.show()"
   ]
  },
  {
   "cell_type": "code",
   "execution_count": 7,
   "metadata": {
    "id": "WEgj8hnD93eD"
   },
   "outputs": [],
   "source": [
    "def noteFrequencyPlot( noteFrequency, smallSample = True ):\n",
    "    \n",
    "    fig, axis = plt.subplots(1, 1, sharey=True )\n",
    "    \n",
    "    axis.plot( np.arange( 1, 13 ), noteFrequency[0, :] )\n",
    "    \n",
    "    _ = plt.show()"
   ]
  },
  {
   "cell_type": "markdown",
   "metadata": {
    "id": "zSQFu7OY94YW"
   },
   "source": [
    "Download `.wav` from [here](https://www2.cs.uic.edu/~i101/SoundFiles/)"
   ]
  },
  {
   "cell_type": "code",
   "execution_count": 8,
   "metadata": {
    "id": "qUrHjGq0AGRi"
   },
   "outputs": [],
   "source": [
    "# Running sample data on defined functions\n",
    "\n",
    "feature_name, features = preProcess(\"/content/wav/c1_2.wav\")"
   ]
  },
  {
   "cell_type": "code",
   "execution_count": 9,
   "metadata": {
    "colab": {
     "base_uri": "https://localhost:8080/",
     "height": 297
    },
    "id": "QmT8P_pvAcZE",
    "outputId": "b02b7e87-b755-440e-d0e3-eeb07f76d86b"
   },
   "outputs": [
    {
     "data": {
      "image/png": "[encoded data removed]",
      "text/plain": [
       "<Figure size 432x288 with 2 Axes>"
      ]
     },
     "metadata": {
      "needs_background": "light"
     },
     "output_type": "display_data"
    }
   ],
   "source": [
    "chromagram = getChromagram( features )\n",
    "plotHeatmap( chromagram )"
   ]
  },
  {
   "cell_type": "code",
   "execution_count": 10,
   "metadata": {
    "colab": {
     "base_uri": "https://localhost:8080/",
     "height": 265
    },
    "id": "hX_MyeNpIAQd",
    "outputId": "6929823c-c78b-4081-b687-061842c90ca0"
   },
   "outputs": [
    {
     "data": {
      "image/png": "[encoded data removed]",
      "text/plain": [
       "<Figure size 432x288 with 1 Axes>"
      ]
     },
     "metadata": {
      "needs_background": "light"
     },
     "output_type": "display_data"
    }
   ],
   "source": [
    "noteFrequency = getNoteFrequency( chromagram )\n",
    "noteFrequencyPlot( noteFrequency )"
   ]
  },
  {
   "cell_type": "markdown",
   "metadata": {
    "id": "Pwd4qPrbIBDe"
   },
   "source": [
    "### Dataset generator\n",
    "\n",
    "This function iterates over all the available files and converts them into note frequency arrays which is out feature set for each audio file."
   ]
  },
  {
   "cell_type": "code",
   "execution_count": 11,
   "metadata": {
    "id": "RQvW6rQg15p8"
   },
   "outputs": [],
   "source": [
    "fileList = []\n",
    "\n",
    "def getDataset( filePath ):\n",
    "    X = pd.DataFrame(  )\n",
    "    \n",
    "    columns=[ \"G#\", \"G\", \"F#\", \"F\", \"E\", \"D#\", \"D\", \"C#\", \"C\", \"B\", \"A#\", \"A\" ]\n",
    "    \n",
    "    for root, dirs, filenames in os.walk( filePath ):\n",
    "        for file in filenames:\n",
    "            fileList.append( file )\n",
    "            feature_name, features = preProcess(filePath + file )\n",
    "            chromagram = getChromagram( features )\n",
    "            noteFrequency = getNoteFrequency( chromagram )\n",
    "            x_new =  pd.Series(noteFrequency[ 0, : ])\n",
    "            X = pd.concat( [ X, x_new ], axis = 1 )\n",
    "        \n",
    "    data = X.T.copy()\n",
    "    data.columns = columns\n",
    "    data.index = [ i for i in range( 0, data.shape[ 0 ] ) ]\n",
    "            \n",
    "    return data"
   ]
  },
  {
   "cell_type": "code",
   "execution_count": 12,
   "metadata": {
    "id": "clCecm2P15p9"
   },
   "outputs": [],
   "source": [
    "data = getDataset(\"/content/wav/\" )"
   ]
  },
  {
   "cell_type": "code",
   "execution_count": 13,
   "metadata": {
    "colab": {
     "base_uri": "https://localhost:8080/"
    },
    "id": "K3HZnRauKE3D",
    "outputId": "c6af1202-ac5d-4422-e50f-b41ec2e27b6b"
   },
   "outputs": [
    {
     "data": {
      "text/plain": [
       "['CantinaBand60.wav', 'BabyElephantWalk60.wav', 'c1_2.wav']"
      ]
     },
     "execution_count": 13,
     "metadata": {},
     "output_type": "execute_result"
    }
   ],
   "source": [
    "fileList"
   ]
  },
  {
   "cell_type": "markdown",
   "metadata": {
    "id": "CeswNPPfQa_N"
   },
   "source": [
    "#### A peek into the dataset\n",
    "\n",
    "Each row represents a file and each column represents the frequency distribution of notes\n",
    "\n",
    "In our case, we have 3 files in total."
   ]
  },
  {
   "cell_type": "code",
   "execution_count": 14,
   "metadata": {
    "colab": {
     "base_uri": "https://localhost:8080/",
     "height": 142
    },
    "id": "24nk6TAyQnaw",
    "outputId": "def207f2-33b4-4dd4-8930-edd00fed916b"
   },
   "outputs": [
    {
     "data": {
      "text/html": [
       "<div>\n",
       "<style scoped>\n",
       "    .dataframe tbody tr th:only-of-type {\n",
       "        vertical-align: middle;\n",
       "    }\n",
       "\n",
       "    .dataframe tbody tr th {\n",
       "        vertical-align: top;\n",
       "    }\n",
       "\n",
       "    .dataframe thead th {\n",
       "        text-align: right;\n",
       "    }\n",
       "</style>\n",
       "<table border=\"1\" class=\"dataframe\">\n",
       "  <thead>\n",
       "    <tr style=\"text-align: right;\">\n",
       "      <th></th>\n",
       "      <th>G#</th>\n",
       "      <th>G</th>\n",
       "      <th>F#</th>\n",
       "      <th>F</th>\n",
       "      <th>E</th>\n",
       "      <th>D#</th>\n",
       "      <th>D</th>\n",
       "      <th>C#</th>\n",
       "      <th>C</th>\n",
       "      <th>B</th>\n",
       "      <th>A#</th>\n",
       "      <th>A</th>\n",
       "    </tr>\n",
       "  </thead>\n",
       "  <tbody>\n",
       "    <tr>\n",
       "      <th>0</th>\n",
       "      <td>0.168333</td>\n",
       "      <td>0.047917</td>\n",
       "      <td>0.143750</td>\n",
       "      <td>0.035000</td>\n",
       "      <td>0.030833</td>\n",
       "      <td>0.076250</td>\n",
       "      <td>0.243333</td>\n",
       "      <td>0.014167</td>\n",
       "      <td>0.027083</td>\n",
       "      <td>0.067083</td>\n",
       "      <td>0.122500</td>\n",
       "      <td>0.023750</td>\n",
       "    </tr>\n",
       "    <tr>\n",
       "      <th>1</th>\n",
       "      <td>0.152917</td>\n",
       "      <td>0.016250</td>\n",
       "      <td>0.210000</td>\n",
       "      <td>0.085833</td>\n",
       "      <td>0.021667</td>\n",
       "      <td>0.070417</td>\n",
       "      <td>0.167083</td>\n",
       "      <td>0.003333</td>\n",
       "      <td>0.022917</td>\n",
       "      <td>0.039167</td>\n",
       "      <td>0.187500</td>\n",
       "      <td>0.022917</td>\n",
       "    </tr>\n",
       "    <tr>\n",
       "      <th>2</th>\n",
       "      <td>0.088060</td>\n",
       "      <td>0.000000</td>\n",
       "      <td>0.460448</td>\n",
       "      <td>0.013433</td>\n",
       "      <td>0.044776</td>\n",
       "      <td>0.000000</td>\n",
       "      <td>0.175373</td>\n",
       "      <td>0.002985</td>\n",
       "      <td>0.004478</td>\n",
       "      <td>0.009701</td>\n",
       "      <td>0.199254</td>\n",
       "      <td>0.001493</td>\n",
       "    </tr>\n",
       "  </tbody>\n",
       "</table>\n",
       "</div>"
      ],
      "text/plain": [
       "         G#         G        F#  ...         B        A#         A\n",
       "0  0.168333  0.047917  0.143750  ...  0.067083  0.122500  0.023750\n",
       "1  0.152917  0.016250  0.210000  ...  0.039167  0.187500  0.022917\n",
       "2  0.088060  0.000000  0.460448  ...  0.009701  0.199254  0.001493\n",
       "\n",
       "[3 rows x 12 columns]"
      ]
     },
     "execution_count": 14,
     "metadata": {},
     "output_type": "execute_result"
    }
   ],
   "source": [
    "data"
   ]
  },
  {
   "cell_type": "markdown",
   "metadata": {
    "id": "gEBVBU-j15p-"
   },
   "source": [
    "In the data frame above each row represents a data point, and each column represents the features. So we have 3 files and 12 features each in our audio signals."
   ]
  },
  {
   "cell_type": "markdown",
   "metadata": {
    "id": "ds-VybIZ15p_"
   },
   "source": [
    "### Machine Learning Algorithm for Audio Feature Extraction\n",
    "\n",
    "Here We will use **K-means clustering algorithm** and define the hyperparameters for our Machine Learning Algorithm.\n",
    "* `K` will represent the number of clusters, and epochs represent the number of iterations our Machine Learning Algorithm will run for:\n",
    "\n",
    "### Hyper-parameters"
   ]
  },
  {
   "cell_type": "code",
   "execution_count": 15,
   "metadata": {
    "id": "Z4z7YiakRC6N"
   },
   "outputs": [],
   "source": [
    "# Number of cluster we wish to divide the data into( user tunable )\n",
    "k = 3\n",
    "\n",
    "# Max number of allowed iterations for the algorithm( user tunable )\n",
    "epochs = 2000"
   ]
  },
  {
   "cell_type": "markdown",
   "metadata": {
    "id": "orlNgc-915qA"
   },
   "source": [
    "Now we will make a function to select the **k** data points as initial centroids:\n",
    "\n",
    "### K-means utility functions"
   ]
  },
  {
   "cell_type": "code",
   "execution_count": 16,
   "metadata": {
    "id": "SvQnVDdx15qA"
   },
   "outputs": [],
   "source": [
    "def initilizeCentroids( data, k ):\n",
    "    '''\n",
    "    Initilize cluster centroids( assuming random k data points to be centroid return them )\n",
    "    '''\n",
    "    centroids = data.values[ 0 : k ]\n",
    "    return centroids"
   ]
  },
  {
   "cell_type": "code",
   "execution_count": 17,
   "metadata": {
    "id": "A20VbbTISr_b"
   },
   "outputs": [],
   "source": [
    "# utility to assign centroids to data points\n",
    "def assignCentroids(X, C):  \n",
    "    expanded_vectors = tf.expand_dims(X, 0)\n",
    "    expanded_centroids = tf.expand_dims(C, 1)\n",
    "    distance = tf.math.reduce_sum( tf.math.square( tf.math.subtract( expanded_vectors, expanded_centroids ) ), axis=2 )\n",
    "    return tf.math.argmin(distance, 0)"
   ]
  },
  {
   "cell_type": "code",
   "execution_count": 18,
   "metadata": {
    "id": "3boiI__5SvbI"
   },
   "outputs": [],
   "source": [
    "# utility to recalculate centroids\n",
    "def reCalculateCentroids(X, X_labels):\n",
    "    sums = tf.math.unsorted_segment_sum( X, X_labels, k )\n",
    "    counts = tf.math.unsorted_segment_sum( tf.ones_like( X ), X_labels, k  )\n",
    "    return tf.math.divide( sums, counts ) "
   ]
  },
  {
   "cell_type": "markdown",
   "metadata": {
    "id": "Ba26eMU415qB"
   },
   "source": [
    "Now, we will define tensors that will represent the placeholders of our data. Here \n",
    "* **X** is a representation of the data, \n",
    "* **C** is the list of **k centroids**, and \n",
    "* **X_labels** is the index of the centroids that we have assigned to our each data point:"
   ]
  },
  {
   "cell_type": "code",
   "execution_count": null,
   "metadata": {
    "id": "f2EdpWcRUSOk"
   },
   "outputs": [],
   "source": [
    "X = tf.Variable(data.values, name=\"X\")\n",
    "X_labels = tf.Variable(tf.zeros(shape=(X.shape[0], 1)),name=\"C_lables\")\n",
    "C = tf.Variable(initilizeCentroids( data, k ), name=\"C\")"
   ]
  },
  {
   "cell_type": "markdown",
   "metadata": {},
   "source": [
    "### Driver Code\n",
    "\n",
    "Now we will define the driver code for our algorithm. Using this function, we will feed the necessary data so that we could train it using our Machine Learning Algorithm:"
   ]
  },
  {
   "cell_type": "code",
   "execution_count": 20,
   "metadata": {
    "id": "SCUrIRbbUcKe"
   },
   "outputs": [],
   "source": [
    "for epoch in range( epochs ):\n",
    "    X_labels =  assignCentroids( X, C )\n",
    "    C = reCalculateCentroids( X, X_labels )"
   ]
  },
  {
   "cell_type": "markdown",
   "metadata": {},
   "source": [
    "Now we have trained the model for audio feature extraction. Let’s have a look at our output:"
   ]
  },
  {
   "cell_type": "code",
   "execution_count": 21,
   "metadata": {
    "colab": {
     "base_uri": "https://localhost:8080/",
     "height": 142
    },
    "id": "fi1WtCC_Uc5x",
    "outputId": "b3bb2d48-4693-4d57-808c-eda0d20dcda5"
   },
   "outputs": [
    {
     "data": {
      "text/html": [
       "<div>\n",
       "<style scoped>\n",
       "    .dataframe tbody tr th:only-of-type {\n",
       "        vertical-align: middle;\n",
       "    }\n",
       "\n",
       "    .dataframe tbody tr th {\n",
       "        vertical-align: top;\n",
       "    }\n",
       "\n",
       "    .dataframe thead th {\n",
       "        text-align: right;\n",
       "    }\n",
       "</style>\n",
       "<table border=\"1\" class=\"dataframe\">\n",
       "  <thead>\n",
       "    <tr style=\"text-align: right;\">\n",
       "      <th></th>\n",
       "      <th>Labels</th>\n",
       "      <th>File Names</th>\n",
       "    </tr>\n",
       "  </thead>\n",
       "  <tbody>\n",
       "    <tr>\n",
       "      <th>0</th>\n",
       "      <td>0</td>\n",
       "      <td>CantinaBand60.wav</td>\n",
       "    </tr>\n",
       "    <tr>\n",
       "      <th>1</th>\n",
       "      <td>1</td>\n",
       "      <td>BabyElephantWalk60.wav</td>\n",
       "    </tr>\n",
       "    <tr>\n",
       "      <th>2</th>\n",
       "      <td>2</td>\n",
       "      <td>c1_2.wav</td>\n",
       "    </tr>\n",
       "  </tbody>\n",
       "</table>\n",
       "</div>"
      ],
      "text/plain": [
       "   Labels              File Names\n",
       "0       0       CantinaBand60.wav\n",
       "1       1  BabyElephantWalk60.wav\n",
       "2       2                c1_2.wav"
      ]
     },
     "execution_count": 21,
     "metadata": {},
     "output_type": "execute_result"
    }
   ],
   "source": [
    "final_labels = pd.DataFrame( { \"Labels\": X_labels, \"File Names\": fileList } )\n",
    "final_labels"
   ]
  },
  {
   "cell_type": "markdown",
   "metadata": {
    "id": "b6orSa6D15qG"
   },
   "source": [
    "That is all about Audio Feature Extraction using the k-means clustering algorithm."
   ]
  },
  {
   "cell_type": "code",
   "execution_count": null,
   "metadata": {
    "id": "sfqtDtTy15qH"
   },
   "outputs": [],
   "source": []
  }
 ],
 "metadata": {
  "accelerator": "GPU",
  "colab": {
   "collapsed_sections": [],
   "name": "25.Audio Feature Extraction.ipynb",
   "provenance": []
  },
  "kernelspec": {
   "display_name": "Python 3",
   "language": "python",
   "name": "python3"
  },
  "language_info": {
   "codemirror_mode": {
    "name": "ipython",
    "version": 3
   },
   "file_extension": ".py",
   "mimetype": "text/x-python",
   "name": "python",
   "nbconvert_exporter": "python",
   "pygments_lexer": "ipython3",
   "version": "3.7.6"
  }
 },
 "nbformat": 4,
 "nbformat_minor": 1
}
